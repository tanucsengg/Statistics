{
  "nbformat": 4,
  "nbformat_minor": 0,
  "metadata": {
    "colab": {
      "name": "Probability using Coin Tossing example .ipynb",
      "provenance": [],
      "authorship_tag": "ABX9TyMvuQxOcK3SZc+cA5yKelA0",
      "include_colab_link": true
    },
    "kernelspec": {
      "name": "python3",
      "display_name": "Python 3"
    },
    "language_info": {
      "name": "python"
    }
  },
  "cells": [
    {
      "cell_type": "markdown",
      "metadata": {
        "id": "view-in-github",
        "colab_type": "text"
      },
      "source": [
        "<a href=\"https://colab.research.google.com/github/tanucsengg/Statistics/blob/main/Probability_using_Coin_Tossing_example_.ipynb\" target=\"_parent\"><img src=\"https://colab.research.google.com/assets/colab-badge.svg\" alt=\"Open In Colab\"/></a>"
      ]
    },
    {
      "cell_type": "code",
      "metadata": {
        "id": "1NEIv1BRjjBx"
      },
      "source": [
        "import random\n"
      ],
      "execution_count": null,
      "outputs": []
    },
    {
      "cell_type": "code",
      "metadata": {
        "id": "xHDS163KjkY1"
      },
      "source": [
        "#coin_trial function represents a simulation of 10 coin tosses\n",
        "def coin_trial():\n",
        "  heads = 0\n",
        "  for i in range(100):\n",
        "    if random.random() <= 0.5:   # use random() function to generate a float between 0 and 1\n",
        "        heads +=1                # increments our heads count if it’s within half of that range\n",
        "    return heads\n"
      ],
      "execution_count": null,
      "outputs": []
    },
    {
      "cell_type": "code",
      "metadata": {
        "id": "ur3W6v2Jjoi6"
      },
      "source": [
        "#simulates repeats these trials depending on how many times you’d like, returning the average number of heads across all of the trials\n",
        "def simulate(n):\n",
        "    trials = []\n",
        "    for i in range(n):\n",
        "        trials.append(coin_trial())\n",
        "    return(sum(trials)/n)"
      ],
      "execution_count": null,
      "outputs": []
    },
    {
      "cell_type": "code",
      "metadata": {
        "colab": {
          "base_uri": "https://localhost:8080/"
        },
        "id": "HY4A_AABjq33",
        "outputId": "4f75dccd-00c7-4e2f-86aa-987ef6c8eb11"
      },
      "source": [
        "simulate(10)"
      ],
      "execution_count": null,
      "outputs": [
        {
          "output_type": "execute_result",
          "data": {
            "text/plain": [
              "0.7"
            ]
          },
          "metadata": {
            "tags": []
          },
          "execution_count": 6
        }
      ]
    },
    {
      "cell_type": "code",
      "metadata": {
        "colab": {
          "base_uri": "https://localhost:8080/"
        },
        "id": "bEkykVuljvHo",
        "outputId": "1df579b9-fbd0-4355-85d6-5ef7737b6680"
      },
      "source": [
        "simulate(100)"
      ],
      "execution_count": null,
      "outputs": [
        {
          "output_type": "execute_result",
          "data": {
            "text/plain": [
              "0.51"
            ]
          },
          "metadata": {
            "tags": []
          },
          "execution_count": 7
        }
      ]
    },
    {
      "cell_type": "code",
      "metadata": {
        "colab": {
          "base_uri": "https://localhost:8080/"
        },
        "id": "XPH7vq99jv7l",
        "outputId": "59c333d1-6be0-4c0d-d8c1-072f8076ed4e"
      },
      "source": [
        "simulate(1000)"
      ],
      "execution_count": null,
      "outputs": [
        {
          "output_type": "execute_result",
          "data": {
            "text/plain": [
              "0.498"
            ]
          },
          "metadata": {
            "tags": []
          },
          "execution_count": 8
        }
      ]
    },
    {
      "cell_type": "code",
      "metadata": {
        "colab": {
          "base_uri": "https://localhost:8080/"
        },
        "id": "aVL-spBhjw3e",
        "outputId": "adabcfd3-1d9e-4183-c16c-92cf2ade8acb"
      },
      "source": [
        "simulate(1000000)"
      ],
      "execution_count": null,
      "outputs": [
        {
          "output_type": "execute_result",
          "data": {
            "text/plain": [
              "0.499073"
            ]
          },
          "metadata": {
            "tags": []
          },
          "execution_count": 11
        }
      ]
    },
    {
      "cell_type": "markdown",
      "metadata": {
        "id": "DNAq_hKwlwKZ"
      },
      "source": [
        "First, the data confirm that our average number of heads does approach what probability suggests it should be. Furthermore, this average improves with more trials. In 10 trials, there’s some slight error, but this error almost disappears entirely with 1,000,000 trials. As we get more trials, the deviation away from the average decreases. "
      ]
    },
    {
      "cell_type": "code",
      "metadata": {
        "id": "UNmqjbCHlyyI"
      },
      "source": [
        ""
      ],
      "execution_count": null,
      "outputs": []
    }
  ]
}